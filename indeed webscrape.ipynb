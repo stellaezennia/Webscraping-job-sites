{
 "cells": [
  {
   "cell_type": "code",
   "execution_count": 1,
   "metadata": {},
   "outputs": [],
   "source": [
    "#importing libraries\n",
    "import requests\n",
    "from bs4 import BeautifulSoup\n",
    "import pandas as pd\n",
    "from time import sleep\n",
    "from random import randint\n",
    "import numpy as np\n",
    "import ssl"
   ]
  },
  {
   "cell_type": "code",
   "execution_count": 2,
   "metadata": {},
   "outputs": [
    {
     "name": "stdout",
     "output_type": "stream",
     "text": [
      "<!DOCTYPE html>\n",
      "<html dir=\"ltr\" lang=\"en\">\n",
      " <head>\n",
      "  <meta content=\"text/html;charset=utf-8\" http-equiv=\"content-type\"/>\n",
      "  <script src=\"//d3fw5vlhllyvee.cloudfront.net/s/bf71b51/en_NG.js\" type=\"text/j\n"
     ]
    }
   ],
   "source": [
    "URL = \"https://ng.indeed.com/jobs?q=data+analyst&l=Nigeria\"\n",
    "#requesting the URL above\n",
    "page = requests.get(URL, headers={'User-Agent': 'Mozilla/5.0'})\n",
    "\n",
    "#specifying format of the page to help readability\n",
    "soup= BeautifulSoup(page.text, \"html.parser\")\n",
    "\n",
    "#printing some characters of soup in a more structured format\n",
    "print(soup.prettify()[:200])"
   ]
  },
  {
   "cell_type": "code",
   "execution_count": 3,
   "metadata": {},
   "outputs": [
    {
     "name": "stdout",
     "output_type": "stream",
     "text": [
      "\n",
      "Data Analyst\n",
      "\n",
      "Junior Analyst - Capabilities & Insights\n",
      "\n",
      "Junior Business Intelligence Analyst\n",
      "\n",
      "Data Analyst, Global Analytics - Nigeria\n",
      "\n",
      "Data Analyst\n",
      "\n",
      "Data Analyst\n",
      "\n",
      "Data Analyst Job at First Choice Leasing Limited\n",
      "\n",
      "Business analyst\n",
      "\n",
      "Market Analyst\n",
      "\n",
      "DATA ANALYST\n",
      "\n",
      "Data Analyst / Processor Job at UnoCasa Limited\n",
      "\n",
      "Business Intelligence Analyst\n",
      "\n",
      "Systems Analyst — Enterprise Application\n",
      "\n",
      "Data Analyst Job at Health Strategy and Delivery Foundation\n",
      "\n",
      "Data Analyst - Damult Solutions\n"
     ]
    }
   ],
   "source": [
    "#extracting job_titles from soup\n",
    "for div in soup.find_all(name='div', attrs={'class':'jobsearch-SerpJobCard unifiedRow row result'}):\n",
    "    try:\n",
    "        print(div.find(name='a', attrs={'data-tn-element': 'jobTitle'}).text)\n",
    "    except:\n",
    "        print('None')"
   ]
  },
  {
   "cell_type": "code",
   "execution_count": 4,
   "metadata": {},
   "outputs": [
    {
     "name": "stdout",
     "output_type": "stream",
     "text": [
      "\n",
      "Mandos International\n",
      "\n",
      "McKinsey & Company\n",
      "\n",
      "SmatData\n",
      "\n",
      "Greenlight Planet\n",
      "\n",
      "\n",
      "Landover Company Limited\n",
      "None\n",
      "\n",
      "First Choice Leasing Limited\n",
      "\n",
      "Dawson consulting\n",
      "\n",
      "Brainwave consultancy\n",
      "\n",
      "Ascentech\n",
      "\n",
      "UnoCasa Limited\n",
      "\n",
      "Xyples LLC\n",
      "None\n",
      "\n",
      "\n",
      "Health Strategy and Delivery Foundation\n",
      "\n",
      "DAMULT SOLUTIONS\n"
     ]
    }
   ],
   "source": [
    "#extracting companies from soup\n",
    "for div in soup.find_all(name='div', attrs={'class':'jobsearch-SerpJobCard unifiedRow row result'}):\n",
    "    try:\n",
    "        print(div.find(name='span', attrs={'class':'company'}).text)\n",
    "    except:\n",
    "        print('None')\n",
    "        "
   ]
  },
  {
   "cell_type": "code",
   "execution_count": 5,
   "metadata": {},
   "outputs": [
    {
     "name": "stdout",
     "output_type": "stream",
     "text": [
      "Lagos\n",
      "Lagos\n",
      "Lagos\n",
      "Lagos\n",
      "Ikeja\n",
      "Lagos\n",
      "Lagos\n",
      "Lagos\n",
      "Ikeja\n",
      "Lagos\n",
      "Lagos\n",
      "Lagos\n",
      "Lagos\n",
      "Abuja\n",
      "Lagos\n"
     ]
    }
   ],
   "source": [
    "#extracting location from soup\n",
    "for div in soup.find_all(name='div', attrs={'class':'jobsearch-SerpJobCard unifiedRow row result'}):\n",
    "    try:\n",
    "        print(div.find(name='span', attrs={'class': 'location accessible-contrast-color-location'}).text)\n",
    "    except:\n",
    "        print('None')"
   ]
  },
  {
   "cell_type": "code",
   "execution_count": 6,
   "metadata": {},
   "outputs": [
    {
     "name": "stdout",
     "output_type": "stream",
     "text": [
      "c59d6cafc032546e\n",
      "2a005465b19857ac\n",
      "68deb1582465da5a\n",
      "70c943f9c4502f84\n",
      "71817992cc9b2669\n",
      "a926ead6236083a0\n",
      "e2c0c714bfdad142\n",
      "5053fb3e6af124c7\n",
      "0636286818856c05\n",
      "46f65a96faaa5d68\n",
      "9c10f98b410d9b34\n",
      "ee9a98e192fd3274\n",
      "f7d762596ed03db0\n",
      "a9cbb1f74186791c\n",
      "cce67fdad46af1c3\n"
     ]
    }
   ],
   "source": [
    "#this will be used to extract descriptions from each page\n",
    "for div in soup.find_all(name='div', attrs={'class':'jobsearch-SerpJobCard unifiedRow row result'}):\n",
    "    try:\n",
    "        print(div['data-jk'])\n",
    "    except:\n",
    "        print('None')\n",
    "            "
   ]
  },
  {
   "cell_type": "code",
   "execution_count": 7,
   "metadata": {},
   "outputs": [
    {
     "name": "stdout",
     "output_type": "stream",
     "text": [
      "Supports initiatives for data integrity and normalization.\n",
      "Supports the evaluation, documentation and automation of data management and curation processes,…\n",
      "Sourcing information from internal and secondary data sources, analyzing and synthesizing this information, and creating well-organized, concise end products to…\n",
      "We are looking for a Business Intelligence/Data Warehouse analyst with good programming skills to support our existing clients on front end BI tools (QlikView,…\n",
      "The Data analyst has experience in data cleaning, data transformation and metrics optimization.\n",
      "Oversee deployment of data to Data Warehouse (Amazon Redshift)…\n",
      "The Data Analyst will develop or apply mathematical or statistical theory, computational techniques, algorithms, and use computer technology to provide usable…\n",
      "Tableau) and data frameworks (e.g.\n",
      "Present information using data visualization techniques.\n",
      "Proven experience as a Data Scientist.\n",
      "Provide quality assurance of imported data, working with quality assurance analyst if necessary.\n",
      "Commissioning and decommissioning of data sets.\n",
      "Experience in analysing data to draw business-relevant conclusions and in data visualization techniques and tools.\n",
      "Define reporting and alerting requirements.\n",
      "Devise and assess procedures and methods for data collection, including opinion polls, surveys and questionnaire.\n",
      "Interested and qualified candidates should forward their CV to cv@ascentech.com.ng using Data Analyst as the subject of the mail.\n",
      "Jobs@unocasaltd.com using \"Data Analyst / Processor\" as the subject of the email.\n",
      "UnoCasa is a full service Human Resources Consultancy business with focus on…\n",
      "DEVELOP DATA STRATEGY & GAIN ACCESS TO DATA:\n",
      "Develop strategic plans to access appropriate and necessary data sources to support analyses and gain access to…\n",
      "Including of data modeling methodologies.\n",
      "Analyze data from systems and produce technical and business reports for consumption by departmental managers.\n",
      "The Data Analyst would support the program teams in developing data collection tools, analyzing and presenting data to different audiences, ensuring appropriate…\n",
      "More Info Employer Location Job…\n"
     ]
    }
   ],
   "source": [
    "#extracting summaries from soup\n",
    "for div in soup.find_all(name='div', attrs={'class':'jobsearch-SerpJobCard unifiedRow row result'}):\n",
    "    for div1 in div.find_all(name = 'div', attrs= {'class': 'summary'}):\n",
    "        try:\n",
    "            print(div1.text.strip())\n",
    "        except:\n",
    "            print('None')"
   ]
  },
  {
   "cell_type": "code",
   "execution_count": 9,
   "metadata": {},
   "outputs": [],
   "source": [
    "#scraping code\n",
    "base_url = 'https://ng.indeed.com'\n",
    "ctx= ssl.create_default_context()\n",
    "ctx.check_hostname = False\n",
    "ctx.verify_mode = ssl.CERT_NONE\n",
    "url = 'https://ng.indeed.com/jobs?q=data+analyst+&l=Nigeria&start=0'\n",
    "#creating empty lists to hold values\n",
    "Job_title = []\n",
    "Company = []\n",
    "Location = []\n",
    "Summary = []\n",
    "link = []\n",
    "page = requests.get(url)\n",
    "soup = BeautifulSoup(page.text, 'html.parser')\n",
    "#assigning the next pages to a variable\n",
    "next_button = soup.find('a', {'aria-label': 'Next'}).get('href')\n",
    "    \n",
    "while next_button:\n",
    "    sleep(randint(2,10))#ensuring at least 2 seconds between page grabs\n",
    "    url2 = base_url + soup.find('a', {'aria-label': 'Next'}).get('href')\n",
    "    page2 = requests.get(url2)\n",
    "    soup =BeautifulSoup(page2.text, 'html.parser')\n",
    "    \n",
    "    #grabbing job titles\n",
    "    for div in soup.find_all(name='div', attrs={'class':'jobsearch-SerpJobCard unifiedRow row result'}):\n",
    "        try:\n",
    "            Job_title.append(div.find(name='a', attrs={'data-tn-element': 'jobTitle'}).text.replace('\\n', ''))\n",
    "        except:\n",
    "            Job_title.append('None')\n",
    "                \n",
    "    #grabbing companies\n",
    "    for div in soup.find_all(name='div', attrs={'class':'jobsearch-SerpJobCard unifiedRow row result'}):\n",
    "        try:\n",
    "            Company.append(div.find(name='span', attrs={'class':'company'}).text.replace('\\n', ''))\n",
    "        except:\n",
    "            Company.append('None')\n",
    "                    \n",
    "    #grabbing locations\n",
    "    for div in soup.find_all(name='div', attrs={'class':'jobsearch-SerpJobCard unifiedRow row result'}):\n",
    "        try:\n",
    "            Location.append(div.find(name='span', attrs={'class': 'location accessible-contrast-color-location'}).text)\n",
    "        except:\n",
    "            Location.append('None')\n",
    "            \n",
    "    #grabbing summaries\n",
    "    for div in soup.find_all(name='div', attrs={'class':'jobsearch-SerpJobCard unifiedRow row result'}):\n",
    "        for div1 in div.find_all(name = 'div', attrs= {'class': 'summary'}):\n",
    "            try:\n",
    "                Summary.append(div1.text.replace('\\n', ''))\n",
    "            except:\n",
    "                Summary.append('None')\n",
    "    \n",
    "    #grabbing links\n",
    "    for div in soup.find_all(name='div', attrs={'class':'jobsearch-SerpJobCard unifiedRow row result'}):\n",
    "        try:\n",
    "            link.append(div['data-jk'])\n",
    "        except:\n",
    "            link.append('None')\n",
    "            \n",
    "    #move to next page        \n",
    "    try:\n",
    "        next_button = soup.find('a', {'aria-label': 'Next'}).get('href')\n",
    "    except AttributeError:\n",
    "        next_button = None\n"
   ]
  },
  {
   "cell_type": "code",
   "execution_count": 10,
   "metadata": {},
   "outputs": [
    {
     "data": {
      "text/plain": [
       "160"
      ]
     },
     "execution_count": 10,
     "metadata": {},
     "output_type": "execute_result"
    }
   ],
   "source": [
    "len(Company)"
   ]
  },
  {
   "cell_type": "code",
   "execution_count": 11,
   "metadata": {},
   "outputs": [
    {
     "data": {
      "text/plain": [
       "160"
      ]
     },
     "execution_count": 11,
     "metadata": {},
     "output_type": "execute_result"
    }
   ],
   "source": [
    "len(Summary)"
   ]
  },
  {
   "cell_type": "code",
   "execution_count": 12,
   "metadata": {},
   "outputs": [
    {
     "data": {
      "text/plain": [
       "['9d4d5784ebacbc02',\n",
       " 'f8dbb3f1dfd67308',\n",
       " 'cd7a5afdd10306f4',\n",
       " '880f3af74dac958b',\n",
       " '8535f3ba909c6931',\n",
       " 'cc06a360aa72d49f',\n",
       " '5b5ff2a19e5b0b9a',\n",
       " '828b2840b0db0604',\n",
       " '4b876568ed322c5c',\n",
       " 'dd2a29136617e786',\n",
       " '1a46e4319e248c5b',\n",
       " '97d394daff488055',\n",
       " '03bf78b235e318b1',\n",
       " '87257df8a53615f8',\n",
       " 'cb2733246567816b',\n",
       " 'a4f40df0262a2258',\n",
       " 'b7ffa8a285d54212',\n",
       " '7ad27243bfbc9d33',\n",
       " '5250061870c109ff',\n",
       " '86a9430739f68bc3',\n",
       " 'bd4bef3450a32cc5',\n",
       " '044afaffaa3ef890',\n",
       " '8885993669925458',\n",
       " '8831069bea97c4b9',\n",
       " '828ea0c3aac9c6df',\n",
       " 'b8894cfdb3d082f3',\n",
       " 'dee4768d5e9aa12d',\n",
       " '37a2e7b4e3ec7ecc',\n",
       " 'ad762bfe9e4ebb9b',\n",
       " '56afa3426e90d5ad',\n",
       " 'a4f40df0262a2258',\n",
       " 'b7ffa8a285d54212',\n",
       " '7ad27243bfbc9d33',\n",
       " '5250061870c109ff',\n",
       " '86a9430739f68bc3',\n",
       " 'bd4bef3450a32cc5',\n",
       " '044afaffaa3ef890',\n",
       " '8885993669925458',\n",
       " '8831069bea97c4b9',\n",
       " '828ea0c3aac9c6df',\n",
       " '544252e94b030836',\n",
       " 'c2af7a1106d84545',\n",
       " 'afd2df298baab271',\n",
       " 'f3b97a090b593021',\n",
       " '2356b5d89aea75b9',\n",
       " '9c5f732360f96f95',\n",
       " 'b327fe0a12965fd7',\n",
       " 'e02062f537e611e8',\n",
       " '8b165faa6e326fa0',\n",
       " 'a4f9f9ffa5770938',\n",
       " 'ea0b6b2135344727',\n",
       " '4008adce8c525809',\n",
       " '284391f07ae2f64f',\n",
       " 'c3d4f0a4bbd88c0b',\n",
       " '7ee5c6322db36e02',\n",
       " '214e8c5154f15095',\n",
       " 'c8a4d10bf5a564e0',\n",
       " 'de35194b832106aa',\n",
       " '77ffd0c0dd7d7b9e',\n",
       " 'ca19c70934556cce',\n",
       " 'b15257bc70055f15',\n",
       " 'a3e1d082ea561cbe',\n",
       " 'f743ccbc9a19b362',\n",
       " 'e5b6616a1b4a8df6',\n",
       " 'de35cf69ccde32ad',\n",
       " '844c63da1e60ecec',\n",
       " '7258509476358ab9',\n",
       " '30440a2dda06b731',\n",
       " '6b2cc423b0f5fb49',\n",
       " '4ff21c2e19929980',\n",
       " '955da2ebc3aa6218',\n",
       " '5ee0e0baaf410fc6',\n",
       " '3ccc37e9cb82d7c3',\n",
       " '6fd462d8ad81e495',\n",
       " 'ed374f7dab73c258',\n",
       " '4427b3f2fc478342',\n",
       " '81959a269acf5111',\n",
       " 'dee8845357c63533',\n",
       " '589410aecbb59270',\n",
       " '1f5b70584aeccf0e',\n",
       " '4c30e268858560b1',\n",
       " '9316a1af5c208677',\n",
       " '368c020ba772f0c2',\n",
       " 'b98402b503e9eb1d',\n",
       " 'f5de896c2b87d56f',\n",
       " '9b5f6a6c839ecdbb',\n",
       " 'ac0d91b4af92c5de',\n",
       " '824b019f99b399ff',\n",
       " '91d43008fe4f15d6',\n",
       " '45a7e41ef5da3889',\n",
       " '8019545056639d2d',\n",
       " '9ab367f16671cd99',\n",
       " '420d0db6cd832b6a',\n",
       " '09673766566640ad',\n",
       " '5481453a688f6593',\n",
       " '69880cc13f5718a9',\n",
       " '11369405de220512',\n",
       " '7fe87713b6e8818c',\n",
       " '080f1f1e036dc53a',\n",
       " 'f603a81818b9be04',\n",
       " 'd8718f5b55a2960e',\n",
       " '752c36c3a97c49b2',\n",
       " '50d92b6afc81dd51',\n",
       " '7e73e2f5ee8b5b24',\n",
       " '39cca8d8b4fb4233',\n",
       " '3c6ddc6fad094516',\n",
       " '4252256bce4b9f2f',\n",
       " '16310a1f95993ee7',\n",
       " '1765aeb17412ea59',\n",
       " 'b3c8af4e6ba68a15',\n",
       " '8472b2a36131d18f',\n",
       " '2794ff31d6b1663f',\n",
       " 'b8ecb73b4cdbf8ff',\n",
       " '788015c144485609',\n",
       " 'cce1411ae46ef00f',\n",
       " '955da2ebc3aa6218',\n",
       " '5ee0e0baaf410fc6',\n",
       " '3ccc37e9cb82d7c3',\n",
       " '6fd462d8ad81e495',\n",
       " 'ed374f7dab73c258',\n",
       " '4427b3f2fc478342',\n",
       " '81959a269acf5111',\n",
       " 'dee8845357c63533',\n",
       " '589410aecbb59270',\n",
       " '1f5b70584aeccf0e',\n",
       " 'b216af3a45b1fb97',\n",
       " 'b8d77ba0eb89ebea',\n",
       " '98b1ed8ada0c310e',\n",
       " '358d2d45a9a76c74',\n",
       " 'b2b4dff84fff8227',\n",
       " '0c19017d05a30124',\n",
       " 'e99e2f2179b959bc',\n",
       " 'b60a16613005e66e',\n",
       " 'cfa47ee482ad3511',\n",
       " 'f089ed24366f8916',\n",
       " '8c8fef684b40b585',\n",
       " 'b5494ea81adbb722',\n",
       " 'eb0373637d7544ab',\n",
       " 'ae7d364d16b26ca1',\n",
       " 'be0b5552e3b3d22f',\n",
       " '78128d35f3138650',\n",
       " '59223f54bbef7154',\n",
       " '17e8ad4d8f742451',\n",
       " 'fcd0ce674c69ad9c',\n",
       " 'e1db8fb3a4553308',\n",
       " '0e81fa7f66afb055',\n",
       " '104312d246576c1d',\n",
       " '472130fa4d9aab55',\n",
       " '8bd31cabd24041a9',\n",
       " '75d72e2fcc6f832a',\n",
       " 'eb7317f220fb2454',\n",
       " '23c9ca88f1c55675',\n",
       " '7e991031c45d89ad',\n",
       " '9b1d761bf2a6f948',\n",
       " 'c73f2290d360dec8',\n",
       " 'b61bad6ccc0ad399',\n",
       " '77345c553296a040',\n",
       " '92f75499aafdaadf',\n",
       " '67e4a4eedceead1c',\n",
       " 'c9908bffe8516d9b']"
      ]
     },
     "execution_count": 12,
     "metadata": {},
     "output_type": "execute_result"
    }
   ],
   "source": [
    "link"
   ]
  },
  {
   "cell_type": "code",
   "execution_count": 13,
   "metadata": {},
   "outputs": [
    {
     "data": {
      "text/plain": [
       "160"
      ]
     },
     "execution_count": 13,
     "metadata": {},
     "output_type": "execute_result"
    }
   ],
   "source": [
    "len(link)"
   ]
  },
  {
   "cell_type": "code",
   "execution_count": 14,
   "metadata": {},
   "outputs": [
    {
     "data": {
      "text/plain": [
       "['https://ng.indeed.com/viewjob?jk=9d4d5784ebacbc02',\n",
       " 'https://ng.indeed.com/viewjob?jk=f8dbb3f1dfd67308',\n",
       " 'https://ng.indeed.com/viewjob?jk=cd7a5afdd10306f4',\n",
       " 'https://ng.indeed.com/viewjob?jk=880f3af74dac958b',\n",
       " 'https://ng.indeed.com/viewjob?jk=8535f3ba909c6931',\n",
       " 'https://ng.indeed.com/viewjob?jk=cc06a360aa72d49f',\n",
       " 'https://ng.indeed.com/viewjob?jk=5b5ff2a19e5b0b9a',\n",
       " 'https://ng.indeed.com/viewjob?jk=828b2840b0db0604',\n",
       " 'https://ng.indeed.com/viewjob?jk=4b876568ed322c5c',\n",
       " 'https://ng.indeed.com/viewjob?jk=dd2a29136617e786',\n",
       " 'https://ng.indeed.com/viewjob?jk=1a46e4319e248c5b',\n",
       " 'https://ng.indeed.com/viewjob?jk=97d394daff488055',\n",
       " 'https://ng.indeed.com/viewjob?jk=03bf78b235e318b1',\n",
       " 'https://ng.indeed.com/viewjob?jk=87257df8a53615f8',\n",
       " 'https://ng.indeed.com/viewjob?jk=cb2733246567816b',\n",
       " 'https://ng.indeed.com/viewjob?jk=a4f40df0262a2258',\n",
       " 'https://ng.indeed.com/viewjob?jk=b7ffa8a285d54212',\n",
       " 'https://ng.indeed.com/viewjob?jk=7ad27243bfbc9d33',\n",
       " 'https://ng.indeed.com/viewjob?jk=5250061870c109ff',\n",
       " 'https://ng.indeed.com/viewjob?jk=86a9430739f68bc3',\n",
       " 'https://ng.indeed.com/viewjob?jk=bd4bef3450a32cc5',\n",
       " 'https://ng.indeed.com/viewjob?jk=044afaffaa3ef890',\n",
       " 'https://ng.indeed.com/viewjob?jk=8885993669925458',\n",
       " 'https://ng.indeed.com/viewjob?jk=8831069bea97c4b9',\n",
       " 'https://ng.indeed.com/viewjob?jk=828ea0c3aac9c6df',\n",
       " 'https://ng.indeed.com/viewjob?jk=b8894cfdb3d082f3',\n",
       " 'https://ng.indeed.com/viewjob?jk=dee4768d5e9aa12d',\n",
       " 'https://ng.indeed.com/viewjob?jk=37a2e7b4e3ec7ecc',\n",
       " 'https://ng.indeed.com/viewjob?jk=ad762bfe9e4ebb9b',\n",
       " 'https://ng.indeed.com/viewjob?jk=56afa3426e90d5ad',\n",
       " 'https://ng.indeed.com/viewjob?jk=a4f40df0262a2258',\n",
       " 'https://ng.indeed.com/viewjob?jk=b7ffa8a285d54212',\n",
       " 'https://ng.indeed.com/viewjob?jk=7ad27243bfbc9d33',\n",
       " 'https://ng.indeed.com/viewjob?jk=5250061870c109ff',\n",
       " 'https://ng.indeed.com/viewjob?jk=86a9430739f68bc3',\n",
       " 'https://ng.indeed.com/viewjob?jk=bd4bef3450a32cc5',\n",
       " 'https://ng.indeed.com/viewjob?jk=044afaffaa3ef890',\n",
       " 'https://ng.indeed.com/viewjob?jk=8885993669925458',\n",
       " 'https://ng.indeed.com/viewjob?jk=8831069bea97c4b9',\n",
       " 'https://ng.indeed.com/viewjob?jk=828ea0c3aac9c6df',\n",
       " 'https://ng.indeed.com/viewjob?jk=544252e94b030836',\n",
       " 'https://ng.indeed.com/viewjob?jk=c2af7a1106d84545',\n",
       " 'https://ng.indeed.com/viewjob?jk=afd2df298baab271',\n",
       " 'https://ng.indeed.com/viewjob?jk=f3b97a090b593021',\n",
       " 'https://ng.indeed.com/viewjob?jk=2356b5d89aea75b9',\n",
       " 'https://ng.indeed.com/viewjob?jk=9c5f732360f96f95',\n",
       " 'https://ng.indeed.com/viewjob?jk=b327fe0a12965fd7',\n",
       " 'https://ng.indeed.com/viewjob?jk=e02062f537e611e8',\n",
       " 'https://ng.indeed.com/viewjob?jk=8b165faa6e326fa0',\n",
       " 'https://ng.indeed.com/viewjob?jk=a4f9f9ffa5770938',\n",
       " 'https://ng.indeed.com/viewjob?jk=ea0b6b2135344727',\n",
       " 'https://ng.indeed.com/viewjob?jk=4008adce8c525809',\n",
       " 'https://ng.indeed.com/viewjob?jk=284391f07ae2f64f',\n",
       " 'https://ng.indeed.com/viewjob?jk=c3d4f0a4bbd88c0b',\n",
       " 'https://ng.indeed.com/viewjob?jk=7ee5c6322db36e02',\n",
       " 'https://ng.indeed.com/viewjob?jk=214e8c5154f15095',\n",
       " 'https://ng.indeed.com/viewjob?jk=c8a4d10bf5a564e0',\n",
       " 'https://ng.indeed.com/viewjob?jk=de35194b832106aa',\n",
       " 'https://ng.indeed.com/viewjob?jk=77ffd0c0dd7d7b9e',\n",
       " 'https://ng.indeed.com/viewjob?jk=ca19c70934556cce',\n",
       " 'https://ng.indeed.com/viewjob?jk=b15257bc70055f15',\n",
       " 'https://ng.indeed.com/viewjob?jk=a3e1d082ea561cbe',\n",
       " 'https://ng.indeed.com/viewjob?jk=f743ccbc9a19b362',\n",
       " 'https://ng.indeed.com/viewjob?jk=e5b6616a1b4a8df6',\n",
       " 'https://ng.indeed.com/viewjob?jk=de35cf69ccde32ad',\n",
       " 'https://ng.indeed.com/viewjob?jk=844c63da1e60ecec',\n",
       " 'https://ng.indeed.com/viewjob?jk=7258509476358ab9',\n",
       " 'https://ng.indeed.com/viewjob?jk=30440a2dda06b731',\n",
       " 'https://ng.indeed.com/viewjob?jk=6b2cc423b0f5fb49',\n",
       " 'https://ng.indeed.com/viewjob?jk=4ff21c2e19929980',\n",
       " 'https://ng.indeed.com/viewjob?jk=955da2ebc3aa6218',\n",
       " 'https://ng.indeed.com/viewjob?jk=5ee0e0baaf410fc6',\n",
       " 'https://ng.indeed.com/viewjob?jk=3ccc37e9cb82d7c3',\n",
       " 'https://ng.indeed.com/viewjob?jk=6fd462d8ad81e495',\n",
       " 'https://ng.indeed.com/viewjob?jk=ed374f7dab73c258',\n",
       " 'https://ng.indeed.com/viewjob?jk=4427b3f2fc478342',\n",
       " 'https://ng.indeed.com/viewjob?jk=81959a269acf5111',\n",
       " 'https://ng.indeed.com/viewjob?jk=dee8845357c63533',\n",
       " 'https://ng.indeed.com/viewjob?jk=589410aecbb59270',\n",
       " 'https://ng.indeed.com/viewjob?jk=1f5b70584aeccf0e',\n",
       " 'https://ng.indeed.com/viewjob?jk=4c30e268858560b1',\n",
       " 'https://ng.indeed.com/viewjob?jk=9316a1af5c208677',\n",
       " 'https://ng.indeed.com/viewjob?jk=368c020ba772f0c2',\n",
       " 'https://ng.indeed.com/viewjob?jk=b98402b503e9eb1d',\n",
       " 'https://ng.indeed.com/viewjob?jk=f5de896c2b87d56f',\n",
       " 'https://ng.indeed.com/viewjob?jk=9b5f6a6c839ecdbb',\n",
       " 'https://ng.indeed.com/viewjob?jk=ac0d91b4af92c5de',\n",
       " 'https://ng.indeed.com/viewjob?jk=824b019f99b399ff',\n",
       " 'https://ng.indeed.com/viewjob?jk=91d43008fe4f15d6',\n",
       " 'https://ng.indeed.com/viewjob?jk=45a7e41ef5da3889',\n",
       " 'https://ng.indeed.com/viewjob?jk=8019545056639d2d',\n",
       " 'https://ng.indeed.com/viewjob?jk=9ab367f16671cd99',\n",
       " 'https://ng.indeed.com/viewjob?jk=420d0db6cd832b6a',\n",
       " 'https://ng.indeed.com/viewjob?jk=09673766566640ad',\n",
       " 'https://ng.indeed.com/viewjob?jk=5481453a688f6593',\n",
       " 'https://ng.indeed.com/viewjob?jk=69880cc13f5718a9',\n",
       " 'https://ng.indeed.com/viewjob?jk=11369405de220512',\n",
       " 'https://ng.indeed.com/viewjob?jk=7fe87713b6e8818c',\n",
       " 'https://ng.indeed.com/viewjob?jk=080f1f1e036dc53a',\n",
       " 'https://ng.indeed.com/viewjob?jk=f603a81818b9be04',\n",
       " 'https://ng.indeed.com/viewjob?jk=d8718f5b55a2960e',\n",
       " 'https://ng.indeed.com/viewjob?jk=752c36c3a97c49b2',\n",
       " 'https://ng.indeed.com/viewjob?jk=50d92b6afc81dd51',\n",
       " 'https://ng.indeed.com/viewjob?jk=7e73e2f5ee8b5b24',\n",
       " 'https://ng.indeed.com/viewjob?jk=39cca8d8b4fb4233',\n",
       " 'https://ng.indeed.com/viewjob?jk=3c6ddc6fad094516',\n",
       " 'https://ng.indeed.com/viewjob?jk=4252256bce4b9f2f',\n",
       " 'https://ng.indeed.com/viewjob?jk=16310a1f95993ee7',\n",
       " 'https://ng.indeed.com/viewjob?jk=1765aeb17412ea59',\n",
       " 'https://ng.indeed.com/viewjob?jk=b3c8af4e6ba68a15',\n",
       " 'https://ng.indeed.com/viewjob?jk=8472b2a36131d18f',\n",
       " 'https://ng.indeed.com/viewjob?jk=2794ff31d6b1663f',\n",
       " 'https://ng.indeed.com/viewjob?jk=b8ecb73b4cdbf8ff',\n",
       " 'https://ng.indeed.com/viewjob?jk=788015c144485609',\n",
       " 'https://ng.indeed.com/viewjob?jk=cce1411ae46ef00f',\n",
       " 'https://ng.indeed.com/viewjob?jk=955da2ebc3aa6218',\n",
       " 'https://ng.indeed.com/viewjob?jk=5ee0e0baaf410fc6',\n",
       " 'https://ng.indeed.com/viewjob?jk=3ccc37e9cb82d7c3',\n",
       " 'https://ng.indeed.com/viewjob?jk=6fd462d8ad81e495',\n",
       " 'https://ng.indeed.com/viewjob?jk=ed374f7dab73c258',\n",
       " 'https://ng.indeed.com/viewjob?jk=4427b3f2fc478342',\n",
       " 'https://ng.indeed.com/viewjob?jk=81959a269acf5111',\n",
       " 'https://ng.indeed.com/viewjob?jk=dee8845357c63533',\n",
       " 'https://ng.indeed.com/viewjob?jk=589410aecbb59270',\n",
       " 'https://ng.indeed.com/viewjob?jk=1f5b70584aeccf0e',\n",
       " 'https://ng.indeed.com/viewjob?jk=b216af3a45b1fb97',\n",
       " 'https://ng.indeed.com/viewjob?jk=b8d77ba0eb89ebea',\n",
       " 'https://ng.indeed.com/viewjob?jk=98b1ed8ada0c310e',\n",
       " 'https://ng.indeed.com/viewjob?jk=358d2d45a9a76c74',\n",
       " 'https://ng.indeed.com/viewjob?jk=b2b4dff84fff8227',\n",
       " 'https://ng.indeed.com/viewjob?jk=0c19017d05a30124',\n",
       " 'https://ng.indeed.com/viewjob?jk=e99e2f2179b959bc',\n",
       " 'https://ng.indeed.com/viewjob?jk=b60a16613005e66e',\n",
       " 'https://ng.indeed.com/viewjob?jk=cfa47ee482ad3511',\n",
       " 'https://ng.indeed.com/viewjob?jk=f089ed24366f8916',\n",
       " 'https://ng.indeed.com/viewjob?jk=8c8fef684b40b585',\n",
       " 'https://ng.indeed.com/viewjob?jk=b5494ea81adbb722',\n",
       " 'https://ng.indeed.com/viewjob?jk=eb0373637d7544ab',\n",
       " 'https://ng.indeed.com/viewjob?jk=ae7d364d16b26ca1',\n",
       " 'https://ng.indeed.com/viewjob?jk=be0b5552e3b3d22f',\n",
       " 'https://ng.indeed.com/viewjob?jk=78128d35f3138650',\n",
       " 'https://ng.indeed.com/viewjob?jk=59223f54bbef7154',\n",
       " 'https://ng.indeed.com/viewjob?jk=17e8ad4d8f742451',\n",
       " 'https://ng.indeed.com/viewjob?jk=fcd0ce674c69ad9c',\n",
       " 'https://ng.indeed.com/viewjob?jk=e1db8fb3a4553308',\n",
       " 'https://ng.indeed.com/viewjob?jk=0e81fa7f66afb055',\n",
       " 'https://ng.indeed.com/viewjob?jk=104312d246576c1d',\n",
       " 'https://ng.indeed.com/viewjob?jk=472130fa4d9aab55',\n",
       " 'https://ng.indeed.com/viewjob?jk=8bd31cabd24041a9',\n",
       " 'https://ng.indeed.com/viewjob?jk=75d72e2fcc6f832a',\n",
       " 'https://ng.indeed.com/viewjob?jk=eb7317f220fb2454',\n",
       " 'https://ng.indeed.com/viewjob?jk=23c9ca88f1c55675',\n",
       " 'https://ng.indeed.com/viewjob?jk=7e991031c45d89ad',\n",
       " 'https://ng.indeed.com/viewjob?jk=9b1d761bf2a6f948',\n",
       " 'https://ng.indeed.com/viewjob?jk=c73f2290d360dec8',\n",
       " 'https://ng.indeed.com/viewjob?jk=b61bad6ccc0ad399',\n",
       " 'https://ng.indeed.com/viewjob?jk=77345c553296a040',\n",
       " 'https://ng.indeed.com/viewjob?jk=92f75499aafdaadf',\n",
       " 'https://ng.indeed.com/viewjob?jk=67e4a4eedceead1c',\n",
       " 'https://ng.indeed.com/viewjob?jk=c9908bffe8516d9b']"
      ]
     },
     "execution_count": 14,
     "metadata": {},
     "output_type": "execute_result"
    }
   ],
   "source": [
    "#adding the complete job link to each url\n",
    "Urls = []\n",
    "single_url = 'https://ng.indeed.com/viewjob?jk=' \n",
    "for i in link:\n",
    "    Urls = [single_url + i for i in link]\n",
    "    \n",
    "Urls"
   ]
  },
  {
   "cell_type": "code",
   "execution_count": 15,
   "metadata": {},
   "outputs": [],
   "source": [
    "#import these to handle exceptions that may come up\n",
    "from requests import ReadTimeout, ConnectTimeout, HTTPError, Timeout, ConnectionError"
   ]
  },
  {
   "cell_type": "code",
   "execution_count": 16,
   "metadata": {},
   "outputs": [],
   "source": [
    "#going to each job page to grab descriptions\n",
    "job_description = []\n",
    "for i in Urls:\n",
    "    sleep(randint(2,10))\n",
    "    try:\n",
    "        r = requests.get(i, timeout=6.0)\n",
    "    except (ReadTimeout, ConnectTimeout, HTTPError, Timeout, ConnectionError):\n",
    "        continue\n",
    "        \n",
    "    desc_soup = BeautifulSoup(r.text, 'html.parser')\n",
    "    \n",
    "    for inside_div in desc_soup.find_all('div', attrs={'class': 'jobsearch-jobDescriptionText'}):\n",
    "        job_description.append(inside_div.text.strip().replace('\\n', ''))\n"
   ]
  },
  {
   "cell_type": "code",
   "execution_count": 17,
   "metadata": {},
   "outputs": [
    {
     "data": {
      "text/plain": [
       "156"
      ]
     },
     "execution_count": 17,
     "metadata": {},
     "output_type": "execute_result"
    }
   ],
   "source": [
    "len(job_description)"
   ]
  },
  {
   "cell_type": "code",
   "execution_count": 18,
   "metadata": {},
   "outputs": [
    {
     "data": {
      "text/plain": [
       "['Company DescriptionOur Client is a is a leading secure investments management firm in Nigeria, with over 12,500 institutional and retail clients, spread across several industries. corporate organization in the financial services sector of the Nigerian economy. The Company is a multi-asset manager, duly licensed by the Securities and Exchange Commission (“SEC”) to provide portfolio and fund management servicesJob DescriptionCandidate must have at least 3 years experience in role and must be currently working in a financial institution or consulting firm. Candidate must have experience in mobile APP building and customisation, automation and I.T Infrastructure. Candidate must be in active employment on the date of recruitment and must have stayed in current role for at least a year.Key Responsibilities:1. Communicate with stakeholders to understand their requirements2. Develop and analyze functional specifications3. Design efficient IT systems to meet business and technology needs4. Coordinate developers to build and implement technology solutions5. Integrate multiple systems and reconcile needs of different teams6. Gather feedback from end users about system performance7. Plan and oversee projects ( e.g. Upgrades, hardware/software installation)8. Provide advice and technical training9. Keep abreast of technology trends and developments10. To work in collaboration with management to understand IT objectives11. Review completed and assigned tasks to ascertain compliance with standards.12. Ensure that the company’s data and information are protected from unauthorized access.13. Carry out in-depth research to reveal new and better methods of handling functions within the Company14. Any other task thatKey Skills and Abilities:People ManagementLeadership skillsMulti-taskStrategic PerspectiveBusiness AcumenData ManagementProblem- solving attitudeStress and pressures managementWritten Communication SkillsGood understanding and certifications in Cloud computing (Azure)QualificationsB.SC in any numerate discipline and relevant professional certification']"
      ]
     },
     "execution_count": 18,
     "metadata": {},
     "output_type": "execute_result"
    }
   ],
   "source": [
    "job_description[:1]"
   ]
  },
  {
   "cell_type": "code",
   "execution_count": 19,
   "metadata": {},
   "outputs": [
    {
     "data": {
      "text/html": [
       "<div>\n",
       "<style scoped>\n",
       "    .dataframe tbody tr th:only-of-type {\n",
       "        vertical-align: middle;\n",
       "    }\n",
       "\n",
       "    .dataframe tbody tr th {\n",
       "        vertical-align: top;\n",
       "    }\n",
       "\n",
       "    .dataframe thead th {\n",
       "        text-align: right;\n",
       "    }\n",
       "</style>\n",
       "<table border=\"1\" class=\"dataframe\">\n",
       "  <thead>\n",
       "    <tr style=\"text-align: right;\">\n",
       "      <th></th>\n",
       "      <th>Job_title</th>\n",
       "      <th>Company</th>\n",
       "      <th>Location</th>\n",
       "      <th>Urls</th>\n",
       "      <th>Summary</th>\n",
       "    </tr>\n",
       "  </thead>\n",
       "  <tbody>\n",
       "    <tr>\n",
       "      <th>0</th>\n",
       "      <td>Information Technology Analyst</td>\n",
       "      <td>Bellforte Consulting</td>\n",
       "      <td>Lagos</td>\n",
       "      <td>https://ng.indeed.com/viewjob?jk=9d4d5784ebacbc02</td>\n",
       "      <td>Ensure that the company’s data and information...</td>\n",
       "    </tr>\n",
       "    <tr>\n",
       "      <th>1</th>\n",
       "      <td>Data/Business Intelligence Analyst</td>\n",
       "      <td>Intelfort Nigeria Limited</td>\n",
       "      <td>Lagos</td>\n",
       "      <td>https://ng.indeed.com/viewjob?jk=f8dbb3f1dfd67308</td>\n",
       "      <td>Good knowledge of operational Data Store / Dat...</td>\n",
       "    </tr>\n",
       "    <tr>\n",
       "      <th>2</th>\n",
       "      <td>Business Intelligence Analyst</td>\n",
       "      <td>Dumela Corp</td>\n",
       "      <td>Lagos</td>\n",
       "      <td>https://ng.indeed.com/viewjob?jk=cd7a5afdd10306f4</td>\n",
       "      <td>Verifiable experience in reporting data.Advanc...</td>\n",
       "    </tr>\n",
       "    <tr>\n",
       "      <th>3</th>\n",
       "      <td>Analyst, Data &amp; Device Propositions (Supervisory)</td>\n",
       "      <td>None</td>\n",
       "      <td>Nigeria</td>\n",
       "      <td>https://ng.indeed.com/viewjob?jk=880f3af74dac958b</td>\n",
       "      <td>Track Revenue Growth For Data Products.Develop...</td>\n",
       "    </tr>\n",
       "    <tr>\n",
       "      <th>4</th>\n",
       "      <td>Marketing Analyst</td>\n",
       "      <td>Sheridan Properties Limited</td>\n",
       "      <td>Lagos</td>\n",
       "      <td>https://ng.indeed.com/viewjob?jk=8535f3ba909c6931</td>\n",
       "      <td>Analyze valuable data by tracking volume, dist...</td>\n",
       "    </tr>\n",
       "  </tbody>\n",
       "</table>\n",
       "</div>"
      ],
      "text/plain": [
       "                                           Job_title  \\\n",
       "0                     Information Technology Analyst   \n",
       "1                 Data/Business Intelligence Analyst   \n",
       "2                      Business Intelligence Analyst   \n",
       "3  Analyst, Data & Device Propositions (Supervisory)   \n",
       "4                                  Marketing Analyst   \n",
       "\n",
       "                       Company Location  \\\n",
       "0         Bellforte Consulting    Lagos   \n",
       "1    Intelfort Nigeria Limited    Lagos   \n",
       "2                  Dumela Corp    Lagos   \n",
       "3                         None  Nigeria   \n",
       "4  Sheridan Properties Limited    Lagos   \n",
       "\n",
       "                                                Urls  \\\n",
       "0  https://ng.indeed.com/viewjob?jk=9d4d5784ebacbc02   \n",
       "1  https://ng.indeed.com/viewjob?jk=f8dbb3f1dfd67308   \n",
       "2  https://ng.indeed.com/viewjob?jk=cd7a5afdd10306f4   \n",
       "3  https://ng.indeed.com/viewjob?jk=880f3af74dac958b   \n",
       "4  https://ng.indeed.com/viewjob?jk=8535f3ba909c6931   \n",
       "\n",
       "                                             Summary  \n",
       "0  Ensure that the company’s data and information...  \n",
       "1  Good knowledge of operational Data Store / Dat...  \n",
       "2  Verifiable experience in reporting data.Advanc...  \n",
       "3  Track Revenue Growth For Data Products.Develop...  \n",
       "4  Analyze valuable data by tracking volume, dist...  "
      ]
     },
     "execution_count": 19,
     "metadata": {},
     "output_type": "execute_result"
    }
   ],
   "source": [
    "#creating dataframe from list\n",
    "df = pd.DataFrame(list(zip(Job_title, Company, Location, Urls, Summary )), \n",
    "                  columns= ['Job_title', 'Company', 'Location', 'Urls', 'Summary'])\n",
    "df.head()"
   ]
  },
  {
   "cell_type": "code",
   "execution_count": 20,
   "metadata": {},
   "outputs": [],
   "source": [
    "#saving file as csv\n",
    "df.to_csv('Indeed_data_analysts_posts.csv')"
   ]
  },
  {
   "cell_type": "code",
   "execution_count": 21,
   "metadata": {},
   "outputs": [],
   "source": [
    "jd = job_description "
   ]
  },
  {
   "cell_type": "code",
   "execution_count": 22,
   "metadata": {},
   "outputs": [],
   "source": [
    "df_jd = pd.DataFrame(job_description)\n"
   ]
  },
  {
   "cell_type": "code",
   "execution_count": 23,
   "metadata": {},
   "outputs": [],
   "source": [
    "df_jd.to_csv('Indeed_data_analysts_job_desc.csv')"
   ]
  },
  {
   "cell_type": "code",
   "execution_count": 24,
   "metadata": {},
   "outputs": [
    {
     "data": {
      "text/html": [
       "<div>\n",
       "<style scoped>\n",
       "    .dataframe tbody tr th:only-of-type {\n",
       "        vertical-align: middle;\n",
       "    }\n",
       "\n",
       "    .dataframe tbody tr th {\n",
       "        vertical-align: top;\n",
       "    }\n",
       "\n",
       "    .dataframe thead th {\n",
       "        text-align: right;\n",
       "    }\n",
       "</style>\n",
       "<table border=\"1\" class=\"dataframe\">\n",
       "  <thead>\n",
       "    <tr style=\"text-align: right;\">\n",
       "      <th></th>\n",
       "      <th>Job_title</th>\n",
       "      <th>Company</th>\n",
       "      <th>Location</th>\n",
       "      <th>Urls</th>\n",
       "      <th>Summary</th>\n",
       "    </tr>\n",
       "  </thead>\n",
       "  <tbody>\n",
       "    <tr>\n",
       "      <th>count</th>\n",
       "      <td>160</td>\n",
       "      <td>160</td>\n",
       "      <td>160</td>\n",
       "      <td>160</td>\n",
       "      <td>160</td>\n",
       "    </tr>\n",
       "    <tr>\n",
       "      <th>unique</th>\n",
       "      <td>131</td>\n",
       "      <td>59</td>\n",
       "      <td>15</td>\n",
       "      <td>140</td>\n",
       "      <td>132</td>\n",
       "    </tr>\n",
       "    <tr>\n",
       "      <th>top</th>\n",
       "      <td>Data Analyst</td>\n",
       "      <td>None</td>\n",
       "      <td>Lagos</td>\n",
       "      <td>https://ng.indeed.com/viewjob?jk=6fd462d8ad81e495</td>\n",
       "      <td>ATPD001 - You appear to be a bot, and we have ...</td>\n",
       "    </tr>\n",
       "    <tr>\n",
       "      <th>freq</th>\n",
       "      <td>6</td>\n",
       "      <td>67</td>\n",
       "      <td>60</td>\n",
       "      <td>2</td>\n",
       "      <td>5</td>\n",
       "    </tr>\n",
       "  </tbody>\n",
       "</table>\n",
       "</div>"
      ],
      "text/plain": [
       "           Job_title Company Location  \\\n",
       "count            160     160      160   \n",
       "unique           131      59       15   \n",
       "top     Data Analyst    None    Lagos   \n",
       "freq               6      67       60   \n",
       "\n",
       "                                                     Urls  \\\n",
       "count                                                 160   \n",
       "unique                                                140   \n",
       "top     https://ng.indeed.com/viewjob?jk=6fd462d8ad81e495   \n",
       "freq                                                    2   \n",
       "\n",
       "                                                  Summary  \n",
       "count                                                 160  \n",
       "unique                                                132  \n",
       "top     ATPD001 - You appear to be a bot, and we have ...  \n",
       "freq                                                    5  "
      ]
     },
     "execution_count": 24,
     "metadata": {},
     "output_type": "execute_result"
    }
   ],
   "source": [
    "df.describe()"
   ]
  },
  {
   "cell_type": "code",
   "execution_count": 25,
   "metadata": {},
   "outputs": [
    {
     "data": {
      "text/html": [
       "<div>\n",
       "<style scoped>\n",
       "    .dataframe tbody tr th:only-of-type {\n",
       "        vertical-align: middle;\n",
       "    }\n",
       "\n",
       "    .dataframe tbody tr th {\n",
       "        vertical-align: top;\n",
       "    }\n",
       "\n",
       "    .dataframe thead th {\n",
       "        text-align: right;\n",
       "    }\n",
       "</style>\n",
       "<table border=\"1\" class=\"dataframe\">\n",
       "  <thead>\n",
       "    <tr style=\"text-align: right;\">\n",
       "      <th></th>\n",
       "      <th>0</th>\n",
       "    </tr>\n",
       "  </thead>\n",
       "  <tbody>\n",
       "    <tr>\n",
       "      <th>0</th>\n",
       "      <td>Company DescriptionOur Client is a is a leadin...</td>\n",
       "    </tr>\n",
       "    <tr>\n",
       "      <th>1</th>\n",
       "      <td>A business intelligence analyst’s analyzes dat...</td>\n",
       "    </tr>\n",
       "    <tr>\n",
       "      <th>2</th>\n",
       "      <td>Verifiable experience in reporting dataData wa...</td>\n",
       "    </tr>\n",
       "    <tr>\n",
       "      <th>3</th>\n",
       "      <td>Job Description Support In Execution Of The Da...</td>\n",
       "    </tr>\n",
       "    <tr>\n",
       "      <th>4</th>\n",
       "      <td>We are currently recruiting for this positionM...</td>\n",
       "    </tr>\n",
       "  </tbody>\n",
       "</table>\n",
       "</div>"
      ],
      "text/plain": [
       "                                                   0\n",
       "0  Company DescriptionOur Client is a is a leadin...\n",
       "1  A business intelligence analyst’s analyzes dat...\n",
       "2  Verifiable experience in reporting dataData wa...\n",
       "3  Job Description Support In Execution Of The Da...\n",
       "4  We are currently recruiting for this positionM..."
      ]
     },
     "execution_count": 25,
     "metadata": {},
     "output_type": "execute_result"
    }
   ],
   "source": [
    "df_jd.head()"
   ]
  },
  {
   "cell_type": "code",
   "execution_count": 31,
   "metadata": {},
   "outputs": [
    {
     "data": {
      "text/html": [
       "<div>\n",
       "<style scoped>\n",
       "    .dataframe tbody tr th:only-of-type {\n",
       "        vertical-align: middle;\n",
       "    }\n",
       "\n",
       "    .dataframe tbody tr th {\n",
       "        vertical-align: top;\n",
       "    }\n",
       "\n",
       "    .dataframe thead th {\n",
       "        text-align: right;\n",
       "    }\n",
       "</style>\n",
       "<table border=\"1\" class=\"dataframe\">\n",
       "  <thead>\n",
       "    <tr style=\"text-align: right;\">\n",
       "      <th></th>\n",
       "      <th>descriptions</th>\n",
       "    </tr>\n",
       "  </thead>\n",
       "  <tbody>\n",
       "    <tr>\n",
       "      <th>0</th>\n",
       "      <td>Company DescriptionOur Client is a is a leadin...</td>\n",
       "    </tr>\n",
       "    <tr>\n",
       "      <th>1</th>\n",
       "      <td>A business intelligence analyst’s analyzes dat...</td>\n",
       "    </tr>\n",
       "    <tr>\n",
       "      <th>2</th>\n",
       "      <td>Verifiable experience in reporting dataData wa...</td>\n",
       "    </tr>\n",
       "    <tr>\n",
       "      <th>3</th>\n",
       "      <td>Job Description Support In Execution Of The Da...</td>\n",
       "    </tr>\n",
       "    <tr>\n",
       "      <th>4</th>\n",
       "      <td>We are currently recruiting for this positionM...</td>\n",
       "    </tr>\n",
       "  </tbody>\n",
       "</table>\n",
       "</div>"
      ],
      "text/plain": [
       "                                        descriptions\n",
       "0  Company DescriptionOur Client is a is a leadin...\n",
       "1  A business intelligence analyst’s analyzes dat...\n",
       "2  Verifiable experience in reporting dataData wa...\n",
       "3  Job Description Support In Execution Of The Da...\n",
       "4  We are currently recruiting for this positionM..."
      ]
     },
     "execution_count": 31,
     "metadata": {},
     "output_type": "execute_result"
    }
   ],
   "source": [
    "#rename column\n",
    "df_jd.rename(columns= {0: 'descriptions'}, inplace=True)\n",
    "df_jd.head()"
   ]
  },
  {
   "cell_type": "code",
   "execution_count": 37,
   "metadata": {},
   "outputs": [],
   "source": [
    "#import libraries for text preprocessing\n",
    "import nltk, re\n",
    "import string\n",
    "from collections import Counter\n",
    "from string import punctuation\n",
    "from nltk.tokenize import RegexpTokenizer, word_tokenize\n",
    "from nltk.stem import WordNetLemmatizer\n",
    "from nltk.corpus import stopwords"
   ]
  },
  {
   "cell_type": "code",
   "execution_count": 34,
   "metadata": {},
   "outputs": [],
   "source": [
    "#creating function to remove punction\n",
    "def remove_punctuation(text):\n",
    "    no_punct = ''.join([c for c in text if c not in string.punctuation])\n",
    "    return no_punct"
   ]
  },
  {
   "cell_type": "code",
   "execution_count": 35,
   "metadata": {},
   "outputs": [
    {
     "data": {
      "text/plain": [
       "0    Company DescriptionOur Client is a is a leadin...\n",
       "1    A business intelligence analyst’s analyzes dat...\n",
       "2    Verifiable experience in reporting dataData wa...\n",
       "3    Job Description Support In Execution Of The Da...\n",
       "4    We are currently recruiting for this positionM...\n",
       "Name: descriptions, dtype: object"
      ]
     },
     "execution_count": 35,
     "metadata": {},
     "output_type": "execute_result"
    }
   ],
   "source": [
    "#applying function to dataframe\n",
    "df_jd['descriptions'] = df_jd['descriptions'].apply(lambda x: remove_punctuation(x))\n",
    "df_jd['descriptions'].head()"
   ]
  },
  {
   "cell_type": "code",
   "execution_count": 38,
   "metadata": {},
   "outputs": [],
   "source": [
    "#instantiate Tokenizer\n",
    "tokenizer = RegexpTokenizer(r'\\w+')\n"
   ]
  },
  {
   "cell_type": "code",
   "execution_count": 39,
   "metadata": {},
   "outputs": [
    {
     "data": {
      "text/plain": [
       "0    [company, descriptionour, client, is, a, is, a...\n",
       "1    [a, business, intelligence, analyst, s, analyz...\n",
       "2    [verifiable, experience, in, reporting, datada...\n",
       "3    [job, description, support, in, execution, of,...\n",
       "4    [we, are, currently, recruiting, for, this, po...\n",
       "Name: descriptions, dtype: object"
      ]
     },
     "execution_count": 39,
     "metadata": {},
     "output_type": "execute_result"
    }
   ],
   "source": [
    "#apply tokenize and make all words lowercase\n",
    "df_jd['descriptions'] = df_jd['descriptions'].apply(lambda x: tokenizer.tokenize(x.lower()))\n",
    "df_jd['descriptions'].head()"
   ]
  },
  {
   "cell_type": "code",
   "execution_count": 40,
   "metadata": {},
   "outputs": [],
   "source": [
    "#function to remove stopwords\n",
    "def remove_stopwords(text):\n",
    "    words = [ w for w in text if w not in stopwords.words('english')]\n",
    "    return words"
   ]
  },
  {
   "cell_type": "code",
   "execution_count": 41,
   "metadata": {},
   "outputs": [
    {
     "data": {
      "text/plain": [
       "0    [company, descriptionour, client, leading, sec...\n",
       "1    [business, intelligence, analyst, analyzes, da...\n",
       "2    [verifiable, experience, reporting, datadata, ...\n",
       "3    [job, description, support, execution, data, d...\n",
       "4    [currently, recruiting, positionminimum, quali...\n",
       "Name: descriptions, dtype: object"
      ]
     },
     "execution_count": 41,
     "metadata": {},
     "output_type": "execute_result"
    }
   ],
   "source": [
    "#apply function to dataframe\n",
    "df_jd['descriptions'] = df_jd['descriptions'].apply(lambda x: remove_stopwords(x))\n",
    "df_jd['descriptions'].head()"
   ]
  },
  {
   "cell_type": "code",
   "execution_count": 42,
   "metadata": {},
   "outputs": [],
   "source": [
    "#instantiate lemmatizer\n",
    "lemmartizer = WordNetLemmatizer()"
   ]
  },
  {
   "cell_type": "code",
   "execution_count": 43,
   "metadata": {},
   "outputs": [],
   "source": [
    "#function to lemmatize\n",
    "def word_lemmatizer(text):\n",
    "    lem_text =' '.join([lemmartizer.lemmatize(i) for i in text])\n",
    "    return lem_text"
   ]
  },
  {
   "cell_type": "code",
   "execution_count": 44,
   "metadata": {},
   "outputs": [
    {
     "data": {
      "text/plain": [
       "0    company descriptionour client leading secure i...\n",
       "1    business intelligence analyst analyzes data pu...\n",
       "2    verifiable experience reporting datadata wareh...\n",
       "3    job description support execution data device ...\n",
       "4    currently recruiting positionminimum qualifica...\n",
       "Name: descriptions, dtype: object"
      ]
     },
     "execution_count": 44,
     "metadata": {},
     "output_type": "execute_result"
    }
   ],
   "source": [
    "#apply function\n",
    "df_jd['descriptions'] = df_jd['descriptions'].apply(lambda x: word_lemmatizer(x))\n",
    "df_jd['descriptions'].head()"
   ]
  },
  {
   "cell_type": "code",
   "execution_count": 46,
   "metadata": {},
   "outputs": [
    {
     "data": {
      "text/plain": [
       "[('data', 648),\n",
       " ('experience', 513),\n",
       " ('business', 416),\n",
       " ('management', 384),\n",
       " ('skill', 342),\n",
       " ('team', 309),\n",
       " ('work', 308),\n",
       " ('development', 265),\n",
       " ('support', 263),\n",
       " ('analysis', 262),\n",
       " ('information', 229),\n",
       " ('process', 229),\n",
       " ('customer', 223),\n",
       " ('system', 216),\n",
       " ('project', 212),\n",
       " ('year', 208),\n",
       " ('report', 208),\n",
       " ('ensure', 206),\n",
       " ('knowledge', 203),\n",
       " ('product', 200),\n",
       " ('service', 192),\n",
       " ('financial', 190),\n",
       " ('related', 187),\n",
       " ('working', 174),\n",
       " ('application', 172),\n",
       " ('software', 168),\n",
       " ('provide', 167),\n",
       " ('ability', 167),\n",
       " ('including', 159),\n",
       " ('job', 150)]"
      ]
     },
     "execution_count": 46,
     "metadata": {},
     "output_type": "execute_result"
    }
   ],
   "source": [
    "#count words in dataframe\n",
    "cnt = Counter()\n",
    "for text in df_jd['descriptions'].values:\n",
    "    for word in text.split():\n",
    "        cnt[word] +=1\n",
    "cnt.most_common(30)"
   ]
  },
  {
   "cell_type": "code",
   "execution_count": 47,
   "metadata": {},
   "outputs": [],
   "source": [
    "#creating lists of keywords to count in the dataframe\n",
    "languages = ['c', 'c++', 'java', ' javascript', 'stata', 'python', 'r', 'sql', 'hadoop', 'hive', 'pig', 'spark', 'aws']\n",
    "viz_tools = ['tableau', 'powerbi', 'qlikview']\n",
    "microsoft_pac = ['excel', 'outlook', 'powerpoint', 'ssis', 'azure', 'mssql' ]\n",
    "databases = ['mssql', 'nosql', 'mysql', 'mongo', 'postgresql']\n",
    "skills = ['database', 'collection', 'warehousing' 'statistics', 'dashboard', 'presentation', 'spreadsheets',\n",
    "         'cleaning', 'research']"
   ]
  },
  {
   "cell_type": "code",
   "execution_count": 49,
   "metadata": {},
   "outputs": [
    {
     "data": {
      "text/plain": [
       "Counter({'sql': 31,\n",
       "         'r': 10,\n",
       "         'python': 28,\n",
       "         'aws': 1,\n",
       "         'c': 11,\n",
       "         'stata': 2,\n",
       "         'hadoop': 4,\n",
       "         'java': 15})"
      ]
     },
     "execution_count": 49,
     "metadata": {},
     "output_type": "execute_result"
    }
   ],
   "source": [
    "#counting languages\n",
    "cnt = Counter()\n",
    "for text in df_jd['descriptions'].values:\n",
    "    for word in text.split():\n",
    "        if word not in languages:\n",
    "            continue\n",
    "        if word in cnt:\n",
    "            cnt[word] +=1\n",
    "        else:\n",
    "            cnt[word] = 1\n",
    "Languages = cnt\n",
    "Languages"
   ]
  },
  {
   "cell_type": "code",
   "execution_count": 50,
   "metadata": {},
   "outputs": [
    {
     "data": {
      "text/html": [
       "<div>\n",
       "<style scoped>\n",
       "    .dataframe tbody tr th:only-of-type {\n",
       "        vertical-align: middle;\n",
       "    }\n",
       "\n",
       "    .dataframe tbody tr th {\n",
       "        vertical-align: top;\n",
       "    }\n",
       "\n",
       "    .dataframe thead th {\n",
       "        text-align: right;\n",
       "    }\n",
       "</style>\n",
       "<table border=\"1\" class=\"dataframe\">\n",
       "  <thead>\n",
       "    <tr style=\"text-align: right;\">\n",
       "      <th></th>\n",
       "      <th>Languages</th>\n",
       "      <th>Count</th>\n",
       "    </tr>\n",
       "  </thead>\n",
       "  <tbody>\n",
       "    <tr>\n",
       "      <th>3</th>\n",
       "      <td>aws</td>\n",
       "      <td>1</td>\n",
       "    </tr>\n",
       "    <tr>\n",
       "      <th>5</th>\n",
       "      <td>stata</td>\n",
       "      <td>2</td>\n",
       "    </tr>\n",
       "    <tr>\n",
       "      <th>6</th>\n",
       "      <td>hadoop</td>\n",
       "      <td>4</td>\n",
       "    </tr>\n",
       "    <tr>\n",
       "      <th>1</th>\n",
       "      <td>r</td>\n",
       "      <td>10</td>\n",
       "    </tr>\n",
       "    <tr>\n",
       "      <th>4</th>\n",
       "      <td>c</td>\n",
       "      <td>11</td>\n",
       "    </tr>\n",
       "    <tr>\n",
       "      <th>7</th>\n",
       "      <td>java</td>\n",
       "      <td>15</td>\n",
       "    </tr>\n",
       "    <tr>\n",
       "      <th>2</th>\n",
       "      <td>python</td>\n",
       "      <td>28</td>\n",
       "    </tr>\n",
       "    <tr>\n",
       "      <th>0</th>\n",
       "      <td>sql</td>\n",
       "      <td>31</td>\n",
       "    </tr>\n",
       "  </tbody>\n",
       "</table>\n",
       "</div>"
      ],
      "text/plain": [
       "  Languages  Count\n",
       "3       aws      1\n",
       "5     stata      2\n",
       "6    hadoop      4\n",
       "1         r     10\n",
       "4         c     11\n",
       "7      java     15\n",
       "2    python     28\n",
       "0       sql     31"
      ]
     },
     "execution_count": 50,
     "metadata": {},
     "output_type": "execute_result"
    }
   ],
   "source": [
    "#creating dataframe from dictionary\n",
    "df_languages = pd.DataFrame.from_dict(Languages, orient='index').reset_index()\n",
    "df_languages = df_languages.rename(columns={'index':'Languages', 0:'Count'})\n",
    "df_languages.sort_values('Count', inplace = True)\n",
    "df_languages"
   ]
  },
  {
   "cell_type": "code",
   "execution_count": 52,
   "metadata": {},
   "outputs": [
    {
     "data": {
      "text/plain": [
       "<function matplotlib.pyplot.show(*args, **kw)>"
      ]
     },
     "execution_count": 52,
     "metadata": {},
     "output_type": "execute_result"
    },
    {
     "data": {
      "image/png": "[encoded data removed]",
      "text/plain": [
       "<Figure size 432x288 with 1 Axes>"
      ]
     },
     "metadata": {},
     "output_type": "display_data"
    }
   ],
   "source": [
    "#import libraries for visualizations\n",
    "import numpy as np\n",
    "import seaborn as sns\n",
    "import matplotlib.pyplot as plt\n",
    "\n",
    "#generating barplot\n",
    "sns.set_style('whitegrid')\n",
    "sns.barplot(x= 'Languages', y = 'Count', data = df_languages, palette = 'Blues_d')\n",
    "plt.xlabel('languages', size = 12)\n",
    "plt.ylabel('count', size = 12)\n",
    "plt.title('Num Count of Languages', size = 16)\n",
    "plt.show"
   ]
  },
  {
   "cell_type": "code",
   "execution_count": 54,
   "metadata": {},
   "outputs": [
    {
     "data": {
      "text/plain": [
       "Counter({'powerbi': 3, 'tableau': 4})"
      ]
     },
     "execution_count": 54,
     "metadata": {},
     "output_type": "execute_result"
    }
   ],
   "source": [
    "#counting words in viz list\n",
    "cnt = Counter()\n",
    "for text in df_jd['descriptions'].values:\n",
    "    for word in text.split():\n",
    "        if word not in viz_tools:\n",
    "            continue\n",
    "        if word in cnt:\n",
    "            cnt[word] +=1\n",
    "        else:\n",
    "            cnt[word] = 1\n",
    "Visualization_tools = cnt\n",
    "Visualization_tools"
   ]
  },
  {
   "cell_type": "code",
   "execution_count": 55,
   "metadata": {},
   "outputs": [
    {
     "data": {
      "text/html": [
       "<div>\n",
       "<style scoped>\n",
       "    .dataframe tbody tr th:only-of-type {\n",
       "        vertical-align: middle;\n",
       "    }\n",
       "\n",
       "    .dataframe tbody tr th {\n",
       "        vertical-align: top;\n",
       "    }\n",
       "\n",
       "    .dataframe thead th {\n",
       "        text-align: right;\n",
       "    }\n",
       "</style>\n",
       "<table border=\"1\" class=\"dataframe\">\n",
       "  <thead>\n",
       "    <tr style=\"text-align: right;\">\n",
       "      <th></th>\n",
       "      <th>Viz_tools</th>\n",
       "      <th>Count</th>\n",
       "    </tr>\n",
       "  </thead>\n",
       "  <tbody>\n",
       "    <tr>\n",
       "      <th>0</th>\n",
       "      <td>powerbi</td>\n",
       "      <td>3</td>\n",
       "    </tr>\n",
       "    <tr>\n",
       "      <th>1</th>\n",
       "      <td>tableau</td>\n",
       "      <td>4</td>\n",
       "    </tr>\n",
       "  </tbody>\n",
       "</table>\n",
       "</div>"
      ],
      "text/plain": [
       "  Viz_tools  Count\n",
       "0   powerbi      3\n",
       "1   tableau      4"
      ]
     },
     "execution_count": 55,
     "metadata": {},
     "output_type": "execute_result"
    }
   ],
   "source": [
    "#create dataframe from list, set index and sort\n",
    "df_viz_tools = pd.DataFrame.from_dict(Visualization_tools, orient='index').reset_index()\n",
    "df_viz_tools = df_viz_tools.rename(columns={'index':'Viz_tools', 0:'Count'})\n",
    "df_viz_tools.sort_values('Count', inplace = True)\n",
    "df_viz_tools "
   ]
  },
  {
   "cell_type": "code",
   "execution_count": 56,
   "metadata": {},
   "outputs": [
    {
     "data": {
      "text/plain": [
       "<function matplotlib.pyplot.show(*args, **kw)>"
      ]
     },
     "execution_count": 56,
     "metadata": {},
     "output_type": "execute_result"
    },
    {
     "data": {
      "image/png": "[encoded data removed]",
      "text/plain": [
       "<Figure size 432x288 with 1 Axes>"
      ]
     },
     "metadata": {},
     "output_type": "display_data"
    }
   ],
   "source": [
    "#generating barplot\n",
    "sns.set_style('whitegrid')\n",
    "sns.barplot(x= 'Viz_tools', y = 'Count', data = df_viz_tools, palette = 'BuPu')\n",
    "plt.xlabel('visualization_tools', size = 12)\n",
    "plt.ylabel('count', size = 12)\n",
    "plt.title('Num Count of Visualization tools', size = 16)\n",
    "plt.show"
   ]
  },
  {
   "cell_type": "code",
   "execution_count": 57,
   "metadata": {},
   "outputs": [
    {
     "data": {
      "text/plain": [
       "Counter({'ssis': 1,\n",
       "         'mssql': 2,\n",
       "         'azure': 9,\n",
       "         'excel': 56,\n",
       "         'outlook': 5,\n",
       "         'powerpoint': 17})"
      ]
     },
     "execution_count": 57,
     "metadata": {},
     "output_type": "execute_result"
    }
   ],
   "source": [
    "#counting words in microsoft_tools\n",
    "cnt = Counter()\n",
    "for text in df_jd['descriptions'].values:\n",
    "    for word in text.split():\n",
    "        if word not in microsoft_pac:\n",
    "            continue\n",
    "        if word in cnt:\n",
    "            cnt[word] +=1\n",
    "        else:\n",
    "            cnt[word] = 1\n",
    "Microsoft_tools = cnt\n",
    "Microsoft_tools"
   ]
  },
  {
   "cell_type": "code",
   "execution_count": 58,
   "metadata": {},
   "outputs": [
    {
     "data": {
      "text/html": [
       "<div>\n",
       "<style scoped>\n",
       "    .dataframe tbody tr th:only-of-type {\n",
       "        vertical-align: middle;\n",
       "    }\n",
       "\n",
       "    .dataframe tbody tr th {\n",
       "        vertical-align: top;\n",
       "    }\n",
       "\n",
       "    .dataframe thead th {\n",
       "        text-align: right;\n",
       "    }\n",
       "</style>\n",
       "<table border=\"1\" class=\"dataframe\">\n",
       "  <thead>\n",
       "    <tr style=\"text-align: right;\">\n",
       "      <th></th>\n",
       "      <th>Microsoft_tools</th>\n",
       "      <th>Count</th>\n",
       "    </tr>\n",
       "  </thead>\n",
       "  <tbody>\n",
       "    <tr>\n",
       "      <th>0</th>\n",
       "      <td>ssis</td>\n",
       "      <td>1</td>\n",
       "    </tr>\n",
       "    <tr>\n",
       "      <th>1</th>\n",
       "      <td>mssql</td>\n",
       "      <td>2</td>\n",
       "    </tr>\n",
       "    <tr>\n",
       "      <th>4</th>\n",
       "      <td>outlook</td>\n",
       "      <td>5</td>\n",
       "    </tr>\n",
       "    <tr>\n",
       "      <th>2</th>\n",
       "      <td>azure</td>\n",
       "      <td>9</td>\n",
       "    </tr>\n",
       "    <tr>\n",
       "      <th>5</th>\n",
       "      <td>powerpoint</td>\n",
       "      <td>17</td>\n",
       "    </tr>\n",
       "    <tr>\n",
       "      <th>3</th>\n",
       "      <td>excel</td>\n",
       "      <td>56</td>\n",
       "    </tr>\n",
       "  </tbody>\n",
       "</table>\n",
       "</div>"
      ],
      "text/plain": [
       "  Microsoft_tools  Count\n",
       "0            ssis      1\n",
       "1           mssql      2\n",
       "4         outlook      5\n",
       "2           azure      9\n",
       "5      powerpoint     17\n",
       "3           excel     56"
      ]
     },
     "execution_count": 58,
     "metadata": {},
     "output_type": "execute_result"
    }
   ],
   "source": [
    "#create dataframe from dict\n",
    "df_micro = pd.DataFrame.from_dict(Microsoft_tools, orient='index').reset_index()\n",
    "df_micro = df_micro.rename(columns={'index':'Microsoft_tools', 0:'Count'})\n",
    "df_micro.sort_values('Count', inplace = True)\n",
    "df_micro "
   ]
  },
  {
   "cell_type": "code",
   "execution_count": 59,
   "metadata": {},
   "outputs": [
    {
     "data": {
      "text/plain": [
       "<function matplotlib.pyplot.show(*args, **kw)>"
      ]
     },
     "execution_count": 59,
     "metadata": {},
     "output_type": "execute_result"
    },
    {
     "data": {
      "image/png": "[encoded data removed]",
      "text/plain": [
       "<Figure size 432x288 with 1 Axes>"
      ]
     },
     "metadata": {},
     "output_type": "display_data"
    }
   ],
   "source": [
    "#generating barplot\n",
    "sns.set_style('whitegrid')\n",
    "sns.barplot(x= 'Microsoft_tools', y = 'Count', data = df_micro, palette = 'OrRd')\n",
    "plt.xlabel('microsoft_tools', size = 12)\n",
    "plt.ylabel('count', size = 12)\n",
    "plt.title('Num Count of Microsoft tools', size = 16)\n",
    "plt.show"
   ]
  },
  {
   "cell_type": "code",
   "execution_count": 61,
   "metadata": {},
   "outputs": [
    {
     "data": {
      "text/plain": [
       "Counter({'mssql': 2, 'mongo': 2, 'nosql': 1, 'postgresql': 7, 'mysql': 7})"
      ]
     },
     "execution_count": 61,
     "metadata": {},
     "output_type": "execute_result"
    }
   ],
   "source": [
    "#counting words in database list\n",
    "cnt = Counter()\n",
    "for text in df_jd['descriptions'].values:\n",
    "    for word in text.split():\n",
    "        if word not in databases:\n",
    "            continue\n",
    "        if word in cnt:\n",
    "            cnt[word] +=1\n",
    "        else:\n",
    "            cnt[word] = 1\n",
    "databases = cnt\n",
    "databases"
   ]
  },
  {
   "cell_type": "code",
   "execution_count": 62,
   "metadata": {},
   "outputs": [
    {
     "data": {
      "text/html": [
       "<div>\n",
       "<style scoped>\n",
       "    .dataframe tbody tr th:only-of-type {\n",
       "        vertical-align: middle;\n",
       "    }\n",
       "\n",
       "    .dataframe tbody tr th {\n",
       "        vertical-align: top;\n",
       "    }\n",
       "\n",
       "    .dataframe thead th {\n",
       "        text-align: right;\n",
       "    }\n",
       "</style>\n",
       "<table border=\"1\" class=\"dataframe\">\n",
       "  <thead>\n",
       "    <tr style=\"text-align: right;\">\n",
       "      <th></th>\n",
       "      <th>Databases</th>\n",
       "      <th>Count</th>\n",
       "    </tr>\n",
       "  </thead>\n",
       "  <tbody>\n",
       "    <tr>\n",
       "      <th>2</th>\n",
       "      <td>nosql</td>\n",
       "      <td>1</td>\n",
       "    </tr>\n",
       "    <tr>\n",
       "      <th>0</th>\n",
       "      <td>mssql</td>\n",
       "      <td>2</td>\n",
       "    </tr>\n",
       "    <tr>\n",
       "      <th>1</th>\n",
       "      <td>mongo</td>\n",
       "      <td>2</td>\n",
       "    </tr>\n",
       "    <tr>\n",
       "      <th>3</th>\n",
       "      <td>postgresql</td>\n",
       "      <td>7</td>\n",
       "    </tr>\n",
       "    <tr>\n",
       "      <th>4</th>\n",
       "      <td>mysql</td>\n",
       "      <td>7</td>\n",
       "    </tr>\n",
       "  </tbody>\n",
       "</table>\n",
       "</div>"
      ],
      "text/plain": [
       "    Databases  Count\n",
       "2       nosql      1\n",
       "0       mssql      2\n",
       "1       mongo      2\n",
       "3  postgresql      7\n",
       "4       mysql      7"
      ]
     },
     "execution_count": 62,
     "metadata": {},
     "output_type": "execute_result"
    }
   ],
   "source": [
    "#create dataframe\n",
    "df_database = pd.DataFrame.from_dict(databases, orient='index').reset_index()\n",
    "df_database = df_database.rename(columns={'index':'Databases', 0:'Count'})\n",
    "df_database.sort_values('Count', inplace = True)\n",
    "df_database "
   ]
  },
  {
   "cell_type": "code",
   "execution_count": 63,
   "metadata": {},
   "outputs": [
    {
     "data": {
      "text/plain": [
       "<function matplotlib.pyplot.show(*args, **kw)>"
      ]
     },
     "execution_count": 63,
     "metadata": {},
     "output_type": "execute_result"
    },
    {
     "data": {
      "image/png": "[encoded data removed]",
      "text/plain": [
       "<Figure size 432x288 with 1 Axes>"
      ]
     },
     "metadata": {},
     "output_type": "display_data"
    }
   ],
   "source": [
    "sns.set_style('whitegrid')\n",
    "sns.barplot(x= 'Databases', y = 'Count', data = df_database, palette = 'Greens')\n",
    "plt.xlabel('databases', size = 12)\n",
    "plt.ylabel('count', size = 12)\n",
    "plt.title('Num Count of Databases', size = 16)\n",
    "plt.show"
   ]
  },
  {
   "cell_type": "code",
   "execution_count": 65,
   "metadata": {},
   "outputs": [
    {
     "data": {
      "text/plain": [
       "Counter({'research': 89,\n",
       "         'dashboard': 23,\n",
       "         'database': 107,\n",
       "         'collection': 45,\n",
       "         'cleaning': 9,\n",
       "         'presentation': 49})"
      ]
     },
     "execution_count": 65,
     "metadata": {},
     "output_type": "execute_result"
    }
   ],
   "source": [
    "#count skills in list\n",
    "cnt = Counter()\n",
    "for text in df_jd['descriptions'].values:\n",
    "    for word in text.split():\n",
    "        if word not in skills:\n",
    "            continue\n",
    "        if word in cnt:\n",
    "            cnt[word] +=1\n",
    "        else:\n",
    "            cnt[word] = 1\n",
    "Skills = cnt\n",
    "Skills"
   ]
  },
  {
   "cell_type": "code",
   "execution_count": 66,
   "metadata": {},
   "outputs": [
    {
     "data": {
      "text/html": [
       "<div>\n",
       "<style scoped>\n",
       "    .dataframe tbody tr th:only-of-type {\n",
       "        vertical-align: middle;\n",
       "    }\n",
       "\n",
       "    .dataframe tbody tr th {\n",
       "        vertical-align: top;\n",
       "    }\n",
       "\n",
       "    .dataframe thead th {\n",
       "        text-align: right;\n",
       "    }\n",
       "</style>\n",
       "<table border=\"1\" class=\"dataframe\">\n",
       "  <thead>\n",
       "    <tr style=\"text-align: right;\">\n",
       "      <th></th>\n",
       "      <th>Skills</th>\n",
       "      <th>Count</th>\n",
       "    </tr>\n",
       "  </thead>\n",
       "  <tbody>\n",
       "    <tr>\n",
       "      <th>4</th>\n",
       "      <td>cleaning</td>\n",
       "      <td>9</td>\n",
       "    </tr>\n",
       "    <tr>\n",
       "      <th>1</th>\n",
       "      <td>dashboard</td>\n",
       "      <td>23</td>\n",
       "    </tr>\n",
       "    <tr>\n",
       "      <th>3</th>\n",
       "      <td>collection</td>\n",
       "      <td>45</td>\n",
       "    </tr>\n",
       "    <tr>\n",
       "      <th>5</th>\n",
       "      <td>presentation</td>\n",
       "      <td>49</td>\n",
       "    </tr>\n",
       "    <tr>\n",
       "      <th>0</th>\n",
       "      <td>research</td>\n",
       "      <td>89</td>\n",
       "    </tr>\n",
       "    <tr>\n",
       "      <th>2</th>\n",
       "      <td>database</td>\n",
       "      <td>107</td>\n",
       "    </tr>\n",
       "  </tbody>\n",
       "</table>\n",
       "</div>"
      ],
      "text/plain": [
       "         Skills  Count\n",
       "4      cleaning      9\n",
       "1     dashboard     23\n",
       "3    collection     45\n",
       "5  presentation     49\n",
       "0      research     89\n",
       "2      database    107"
      ]
     },
     "execution_count": 66,
     "metadata": {},
     "output_type": "execute_result"
    }
   ],
   "source": [
    "#creating dataframe from list\n",
    "df_skills = pd.DataFrame.from_dict(Skills, orient='index').reset_index()\n",
    "df_skills = df_skills.rename(columns={'index':'Skills', 0:'Count'})\n",
    "df_skills.sort_values('Count', inplace = True)\n",
    "df_skills"
   ]
  },
  {
   "cell_type": "code",
   "execution_count": 68,
   "metadata": {},
   "outputs": [
    {
     "data": {
      "text/plain": [
       "<function matplotlib.pyplot.show(*args, **kw)>"
      ]
     },
     "execution_count": 68,
     "metadata": {},
     "output_type": "execute_result"
    },
    {
     "data": {
      "image/png": "[encoded data removed]",
      "text/plain": [
       "<Figure size 432x288 with 1 Axes>"
      ]
     },
     "metadata": {},
     "output_type": "display_data"
    }
   ],
   "source": [
    "#generating barplot\n",
    "sns.set_style('whitegrid')\n",
    "sns.barplot(x= 'Skills', y = 'Count', data = df_skills, palette = 'PiYG_r')\n",
    "plt.xlabel('skills', size = 12)\n",
    "plt.ylabel('count', size = 12)\n",
    "plt.title('Num Count of Skills', size = 16)\n",
    "plt.show"
   ]
  },
  {
   "cell_type": "code",
   "execution_count": null,
   "metadata": {},
   "outputs": [],
   "source": []
  }
 ],
 "metadata": {
  "kernelspec": {
   "display_name": "Python 3",
   "language": "python",
   "name": "python3"
  },
  "language_info": {
   "codemirror_mode": {
    "name": "ipython",
    "version": 3
   },
   "file_extension": ".py",
   "mimetype": "text/x-python",
   "name": "python",
   "nbconvert_exporter": "python",
   "pygments_lexer": "ipython3",
   "version": "3.8.3"
  }
 },
 "nbformat": 4,
 "nbformat_minor": 4
}
